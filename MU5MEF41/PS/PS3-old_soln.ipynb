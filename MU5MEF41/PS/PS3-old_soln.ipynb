{
 "cells": [
  {
   "cell_type": "code",
   "execution_count": 104,
   "metadata": {},
   "outputs": [],
   "source": [
    "import numpy as np\n",
    "import sympy as sp\n",
    "from random import random\n",
    "from numpy import linalg\n",
    "from scipy.linalg import expm\n",
    "from scipy.linalg import inv\n",
    "import matplotlib.pyplot as plt\n",
    "from mpl_toolkits.mplot3d import Axes3D"
   ]
  },
  {
   "cell_type": "markdown",
   "metadata": {},
   "source": [
    "## Optimal temporal energy growth"
   ]
  },
  {
   "cell_type": "markdown",
   "metadata": {},
   "source": [
    "The optimization problem can therefore be formalized in the following way:\n",
    "$$\n",
    "F    = \\dfrac{dq}{dt} - N(q) = 0 \\\\\n",
    "F_0  = q(0) - g = 0 \\\\\n",
    "\\mathcal{J} = \\dfrac{g \\cdot g}{q(T)\\cdot q(T)}\n",
    "$$\n",
    "Forming the Lagrangian and following the variational principle leads to the following sets of equations for the forward, backward and optimality conditions respectively, \n",
    "$$\n",
    "\\dfrac{dq}{dt} = N(q), \\;\\;q(0) = g \\\\\n",
    "-\\dfrac{da}{dt} = \\left(\\dfrac{\\partial N}{\\partial q} \\right)^\\top \\cdot a, \\;\\; a(T) = - 2q(T)\\dfrac{g \\cdot g}{(q(T) \\cdot q(T))^2} \\\\\n",
    "g = a(0) \\dfrac{q(T) \\cdot q(T)}{2}\n",
    "$$"
   ]
  },
  {
   "cell_type": "markdown",
   "metadata": {},
   "source": [
    "For the specific problem of optimal transient growth an iterative method can be used where the three equations of the optimality system are solved sequentially. The method is initialized by giving an initial guess on $g$, then the loop is as follows:\n",
    "\n",
    "- Given the $p^{th}$ guess $g^p$, compute the solution of the state equation integrating it forward in time from $t = 0$ to $t = T$ with initial condition $q(0) = g^p$.\n",
    "- Compute $\\mathcal{J}$ and its relative increment. If convergence is reached, stop, else continue.\n",
    "- Use $q(T)$ to compute $a(T)$ and integrate the adjoint system backward in time from $t = T$ to $t = 0$.\n",
    "- Use $a(0)$ to update the control using the optimality condition and get $g^{(p+1)}$. Then go to top.\n",
    "\n",
    "Apply this algorithm to compute the optimal transient growth for the linear problem with : dq/dt = Lq"
   ]
  },
  {
   "cell_type": "code",
   "execution_count": 106,
   "metadata": {},
   "outputs": [],
   "source": [
    "# define the state equation\n",
    "def StateForw(t,q,L) :\n",
    "    f = L*q\n",
    "    return f"
   ]
  },
  {
   "cell_type": "code",
   "execution_count": 107,
   "metadata": {},
   "outputs": [],
   "source": [
    "# define Adjoint equation rhs\n",
    "def AdjntBack(t,a,L) : \n",
    "    f = L.transpose()*a\n",
    "    return f\n"
   ]
  },
  {
   "cell_type": "code",
   "execution_count": 108,
   "metadata": {},
   "outputs": [],
   "source": [
    "# Define the system\n",
    "\n",
    "\n",
    "Rey = 400.0\n",
    "T   = 200.0\n",
    "L   = np.array([[1.0/Rey, 0.0], \n",
    "       [1.0, -3.0/Rey]])                  #>>> the opperator is linear here so dq/dt = Lq\n",
    "\n",
    "# define the exact solution using the norm function\n",
    "\n",
    "G_exact = (linalg.norm(expm(L*T)))**2     #>>> the exact equation is computed y = y0exp(Lt)"
   ]
  },
  {
   "cell_type": "code",
   "execution_count": 109,
   "metadata": {},
   "outputs": [],
   "source": [
    "# Define tolerance and initialize iterations\n",
    "tol   = 10**(-8);\n",
    "g     = np.array([[random()], [random()]]) # (random initial guess) \n",
    "J     =  10**23\n",
    "dJrel =  10**23 \n",
    "it    =  0"
   ]
  },
  {
   "cell_type": "code",
   "execution_count": 110,
   "metadata": {},
   "outputs": [],
   "source": [
    "# Iteration loop \n",
    "while (dJrel > tol) : \n",
    "    it   = it+1\n",
    "    Jold = J\n",
    "    Pdir = expm(L*T) \"CFD\"                   # (propagato the forward problem from 0 to T)\n",
    "    qT   = np.dot(Pdir,g)               # (solve state equation forward in time) \n",
    "    g2   = np.dot(g.transpose(),g) \n",
    "    qT2  = np.dot(qT.transpose(),qT)\n",
    "    J    = g2/qT2                       # (cost function)\n",
    "    dJrel= abs((J-Jold)/J)\n",
    "    aT   = -2.0*qT*(g2)/qT2**2          # (IC for adjoint equation) \n",
    "    Padj = inv(expm(T*L.transpose())) \"adjoint solver\"  #(adjoint propagator from T to 0) \n",
    "    a0   = np.dot(Padj,aT)\n",
    "    g    = a0*(qT2/2.0);                # (optimality equation)\n",
    "    g    = g/math.sqrt(np.dot(g.transpose(),g)) \n",
    "    \n",
    "# end of iteration loop \n",
    "G = 1.0/J"
   ]
  },
  {
   "cell_type": "code",
   "execution_count": 127,
   "metadata": {},
   "outputs": [
    {
     "name": "stdout",
     "output_type": "stream",
     "text": [
      "number of iterations to convergence =  3\n",
      "The resulting Gain computed =  [[20322.3643793]]\n",
      "The exact Gain              =  20325.86821373707\n",
      "optimal intial condition, g =  [[ 0.99993313 -0.01156461]]\n",
      "optimal response        , qT=  [[  1.64861102 142.54699738]]\n"
     ]
    }
   ],
   "source": [
    "# print results\n",
    "print('number of iterations to convergence = ', it)\n",
    "print('The resulting Gain computed = ', G)\n",
    "print('The exact Gain              = ', G_exact)\n",
    "print('optimal intial condition, g = ', g.transpose())\n",
    "print('optimal response        , qT= ', qT.transpose())\n"
   ]
  }
 ],
 "metadata": {
  "kernelspec": {
   "display_name": "Python 3",
   "language": "python",
   "name": "python3"
  },
  "language_info": {
   "codemirror_mode": {
    "name": "ipython",
    "version": 3
   },
   "file_extension": ".py",
   "mimetype": "text/x-python",
   "name": "python",
   "nbconvert_exporter": "python",
   "pygments_lexer": "ipython3",
   "version": "3.8.3"
  }
 },
 "nbformat": 4,
 "nbformat_minor": 2
}
