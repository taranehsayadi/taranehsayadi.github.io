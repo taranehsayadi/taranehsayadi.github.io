{
 "cells": [
  {
   "cell_type": "code",
   "execution_count": 104,
   "metadata": {},
   "outputs": [],
   "source": [
    "import numpy as np\n",
    "import sympy as sp\n",
    "from random import random\n",
    "from numpy import linalg\n",
    "from scipy.linalg import expm\n",
    "from scipy.linalg import inv\n",
    "import matplotlib.pyplot as plt\n",
    "from mpl_toolkits.mplot3d import Axes3D"
   ]
  },
  {
   "cell_type": "markdown",
   "metadata": {},
   "source": [
    "## Optimal temporal energy growth"
   ]
  },
  {
   "cell_type": "markdown",
   "metadata": {},
   "source": [
    "The optimization problem can therefore be formalized in the following way:\n",
    "$$\n",
    "F    = \\dfrac{dq}{dt} - N(q) = 0 \\\\\n",
    "F_0  = q(0) - g = 0 \\\\\n",
    "\\mathcal{J} = \\dfrac{g \\cdot g}{q(T)\\cdot q(T)}\n",
    "$$\n",
    "Forming the Lagrangian and following the variational principle leads to the following sets of equations for the forward, backward and optimality conditions respectively, \n",
    "$$\n",
    "\\dfrac{dq}{dt} = N(q), \\;\\;q(0) = g \\\\\n",
    "-\\dfrac{da}{dt} = \\left(\\dfrac{\\partial N}{\\partial q} \\right)^\\top \\cdot a, \\;\\; a(T) = 2q(T)\\dfrac{g \\cdot g}{(q(T) \\cdot q(T))^2} \\\\\n",
    "g = a(0) \\dfrac{q(T) \\cdot q(T)}{2}\n",
    "$$"
   ]
  },
  {
   "cell_type": "markdown",
   "metadata": {},
   "source": [
    "For the specific problem of optimal transient growth an iterative method can be used where the three equations of the optimality system are solved sequentially. The method is initialized by giving an initial guess on $g$, then the loop is as follows:\n",
    "\n",
    "- Given the $p^{th}$ guess $g^p$, compute the solution of the state equation integrating it forward in time from $t = 0$ to $t = T$ with initial condition $q(0) = g^p$.\n",
    "- Compute $\\mathcal{J}$ and its relative increment. If convergence is reached, stop, else continue.\n",
    "- Use $q(T)$ to compute $a(T)$ and integrate the adjoint system backward in time from $t = T$ to $t = 0$.\n",
    "- Use $a(0)$ to update the control using the optimality condition and get $g^{(p+1)}$. Then go to top.\n",
    "\n",
    "Apply this algorithm to compute the optimal transient growth for the linear problem with : dq/dt = Lq"
   ]
  },
  {
   "cell_type": "code",
   "execution_count": 106,
   "metadata": {},
   "outputs": [],
   "source": [
    "# define the state equation\n",
    "def StateForw(t,q,L) :\n",
    "    f = L*q\n",
    "    return f"
   ]
  },
  {
   "cell_type": "code",
   "execution_count": 107,
   "metadata": {},
   "outputs": [],
   "source": [
    "# define Adjoint equation rhs\n",
    "def AdjntBack(t,a,L) : \n",
    "    f = L.transpose()*a\n",
    "    return f\n"
   ]
  },
  {
   "cell_type": "code",
   "execution_count": 108,
   "metadata": {},
   "outputs": [],
   "source": [
    "# Define the system\n",
    "\n",
    "\n",
    "Rey = 400.0\n",
    "T   = 200.0\n",
    "L   = np.array([[1.0/Rey, 0.0],              #>>> the opperator is linear here so dq/dt = Lq\n",
    "       [1.0, -3.0/Rey]])         \n",
    "\n",
    "# define the exact solution using the norm function\n",
    "\n",
    "G_exact = (linalg.norm(expm(L*T)))**2        #>>> the exact equation is computed y = y0exp(Lt)"
   ]
  },
  {
   "cell_type": "code",
   "execution_count": 109,
   "metadata": {},
   "outputs": [],
   "source": [
    "# Define tolerance and initialize iterations\n",
    "tol   = 10**(-8);\n",
    "g     = np.array([[random()], [random()]]) # (random initial guess) \n",
    "J     =  10**23\n",
    "dJrel =  10**23 \n",
    "it    =  0"
   ]
  },
  {
   "cell_type": "code",
   "execution_count": 110,
   "metadata": {},
   "outputs": [],
   "source": [
    "# Iteration loop \n",
    "while (dJrel > tol) : \n",
    "    it   = it+1\n",
    "    Jold = J\n",
    "\n",
    "    qT   =                              # (solve state equation forward in time and get q(T)) \n",
    "    \n",
    "    J    =                              # (evaluate the cost function)\n",
    "    dJrel= abs((J-Jold)/J)\n",
    "    \n",
    "    aT   =                              # (set IC for adjoint equation) \n",
    "    \n",
    "                                        \n",
    "    a0   =                              # (Solve adjoint equation from T to 0 and get a(0)) \n",
    "    g    =                              # (optimality equation)\n",
    "    g    = g/math.sqrt(np.dot(g.transpose(),g)) # normalised g\n",
    "    \n",
    "# end of iteration loop \n",
    "G = 1.0/J"
   ]
  },
  {
   "cell_type": "code",
   "execution_count": 1,
   "metadata": {},
   "outputs": [],
   "source": [
    "# print results\n",
    "print('number of iterations to convergence = ', it)\n",
    "print('The resulting Gain computed = ', G)\n",
    "print('The exact Gain              = ', G_exact)\n",
    "print('optimal intial condition, g = ', g.transpose())\n",
    "print('optimal response        , qT= ', qT.transpose())\n"
   ]
  }
 ],
 "metadata": {
  "kernelspec": {
   "display_name": "Python 3 (ipykernel)",
   "language": "python",
   "name": "python3"
  },
  "language_info": {
   "codemirror_mode": {
    "name": "ipython",
    "version": 3
   },
   "file_extension": ".py",
   "mimetype": "text/x-python",
   "name": "python",
   "nbconvert_exporter": "python",
   "pygments_lexer": "ipython3",
   "version": "3.8.9"
  }
 },
 "nbformat": 4,
 "nbformat_minor": 2
}
